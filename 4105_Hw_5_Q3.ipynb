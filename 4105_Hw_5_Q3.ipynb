{
  "nbformat": 4,
  "nbformat_minor": 0,
  "metadata": {
    "colab": {
      "provenance": [],
      "authorship_tag": "ABX9TyPZQzpCo7OLs4PrfOPslVdl",
      "include_colab_link": true
    },
    "kernelspec": {
      "name": "python3",
      "display_name": "Python 3"
    },
    "language_info": {
      "name": "python"
    }
  },
  "cells": [
    {
      "cell_type": "markdown",
      "metadata": {
        "id": "view-in-github",
        "colab_type": "text"
      },
      "source": [
        "<a href=\"https://colab.research.google.com/github/Pathin220/4105_ML_Hw5/blob/main/4105_Hw_5_Q3.ipynb\" target=\"_parent\"><img src=\"https://colab.research.google.com/assets/colab-badge.svg\" alt=\"Open In Colab\"/></a>"
      ]
    },
    {
      "cell_type": "code",
      "execution_count": 105,
      "metadata": {
        "id": "T0cgmqREQuBv"
      },
      "outputs": [],
      "source": [
        "import torch\n",
        "import tensorflow\n",
        "import matplotlib.pyplot as plt\n",
        "import numpy as np\n",
        "import torch.nn as nn\n",
        "import torch.optim as optim\n",
        "import pandas as pd\n",
        "from sklearn.model_selection import train_test_split\n",
        "from sklearn.preprocessing import StandardScaler"
      ]
    },
    {
      "cell_type": "code",
      "source": [
        "#Repeat all sections of problem 2 using all the input features from the housing price dataset."
      ],
      "metadata": {
        "id": "CPlCYZ93Q0hd"
      },
      "execution_count": 106,
      "outputs": []
    },
    {
      "cell_type": "code",
      "source": [
        "\n",
        "from google.colab import drive\n",
        "drive.mount('/content/drive')\n",
        "\n",
        "file_path = '/content/drive/My Drive/Machine Learning/Housing.csv'\n",
        "housing = pd.DataFrame(pd.read_csv(file_path))"
      ],
      "metadata": {
        "colab": {
          "base_uri": "https://localhost:8080/"
        },
        "id": "JZInA74EQ5Dn",
        "outputId": "d366742e-ef6b-497d-e804-ca0829483e5d"
      },
      "execution_count": 107,
      "outputs": [
        {
          "output_type": "stream",
          "name": "stdout",
          "text": [
            "Drive already mounted at /content/drive; to attempt to forcibly remount, call drive.mount(\"/content/drive\", force_remount=True).\n"
          ]
        }
      ]
    },
    {
      "cell_type": "code",
      "source": [
        "#mapping the variables to a binary output\n",
        "varlist_1 =  ['mainroad', 'guestroom', 'basement', 'hotwaterheating', 'airconditioning', 'prefarea', 'furnishingstatus']\n",
        "\n",
        "# Defining the map function\n",
        "def mapping(x):\n",
        "    return x.map({'yes': 1, 'no': 0, 'furnished':  1, 'semi-furnished':  0, 'unfurnished':  -1})\n",
        "\n",
        "housing[varlist_1] = housing[varlist_1].apply(mapping)\n"
      ],
      "metadata": {
        "id": "INocg2uiQ95D"
      },
      "execution_count": 108,
      "outputs": []
    },
    {
      "cell_type": "code",
      "source": [
        "#Splitting the Dataset\n",
        "X_train, X_val = train_test_split(housing, train_size = 0.8, test_size = 0.2, random_state = 0)\n",
        "\n",
        "\n"
      ],
      "metadata": {
        "id": "PD3qg_2dRKxh"
      },
      "execution_count": 109,
      "outputs": []
    },
    {
      "cell_type": "code",
      "source": [
        "#Splitting Variables\n",
        "Y_train = X_train.pop(\"price\")\n",
        "Y_val = X_val.pop(\"price\")"
      ],
      "metadata": {
        "id": "00UOL_BcRQbg"
      },
      "execution_count": 110,
      "outputs": []
    },
    {
      "cell_type": "code",
      "source": [
        "#Standardizing the Dataset\n",
        "standard = StandardScaler()\n",
        "vars = ['area', 'bedrooms', 'bathrooms', 'stories', 'parking', 'mainroad', 'guestroom', 'basement', 'hotwaterheating',\n",
        "         'airconditioning', 'prefarea', 'furnishingstatus']\n",
        "\n",
        "X_train_st = X_train\n",
        "X_train_st[vars] = standard.fit_transform(X_train_st[vars])\n",
        "\n",
        "X_val_st = X_val\n",
        "X_val_st[vars] = standard.fit_transform(X_val_st[vars])"
      ],
      "metadata": {
        "id": "Yapoz9wMRX_q"
      },
      "execution_count": 111,
      "outputs": []
    },
    {
      "cell_type": "code",
      "source": [
        "#defining the loss function\n",
        "def loss_fn(t_p, t_c):\n",
        "    squared_diffs = (t_p - t_c)**2\n",
        "    return squared_diffs.mean()"
      ],
      "metadata": {
        "id": "Uae3n5VmRnD4"
      },
      "execution_count": 112,
      "outputs": []
    },
    {
      "cell_type": "code",
      "source": [
        "#defining the model\n",
        "def model_h(t_u, w12, w11, w10, w9, w8, w7, w6, w5, w4, w3, w2, w1, b):\n",
        "  return w12*t_u**12 + w11*t_u**11 + w10*t_u**10 + w9*t_u**9 + w8*t_u**8 + w7*t_u**7 + w6*t_u**6 + w5*t_u**5 + w4*t_u**4 + w3*t_u**3 + w2 * t_u ** 2 + w1 * t_u + b\n"
      ],
      "metadata": {
        "id": "58zlsMQTRuMI"
      },
      "execution_count": 113,
      "outputs": []
    },
    {
      "cell_type": "code",
      "source": [
        "#Setting up the initial parameters\n",
        "params = torch.tensor([1.0, 1.0, 1.0, 1.0, 1.0, 1.0, 1.0, 1.0, 1.0, 1.0, 1.0, 1.0, 0.0], requires_grad = True)"
      ],
      "metadata": {
        "id": "QB3xxUj2R2mV"
      },
      "execution_count": 114,
      "outputs": []
    },
    {
      "cell_type": "code",
      "source": [
        "X_train_st_numpy = np.c_[np.ones((len(Y_train), 1)), X_train_st[vars]]\n",
        "X_val_st_numpy = np.c_[np.ones((len(Y_val), 1)), X_val_st[vars]]"
      ],
      "metadata": {
        "id": "e7XZEpEfS3s7"
      },
      "execution_count": 115,
      "outputs": []
    },
    {
      "cell_type": "code",
      "source": [
        "X_train_t = torch.tensor(X_train_st_numpy)\n",
        "X_val_t = torch.tensor(X_val_st_numpy)\n",
        "Y_train_t = torch.tensor(Y_train.values)\n",
        "Y_val_t = torch.tensor(Y_val.values)"
      ],
      "metadata": {
        "id": "P11CXGm2S4ew"
      },
      "execution_count": 116,
      "outputs": []
    },
    {
      "cell_type": "code",
      "source": [
        "Y_train_m = Y_train_t.float().mean()\n",
        "Y_train_st = Y_train.std()\n",
        "Y_train_st_t = (Y_train_t-Y_train_m) / Y_train_st"
      ],
      "metadata": {
        "id": "aIORL-f8S6WN"
      },
      "execution_count": 117,
      "outputs": []
    },
    {
      "cell_type": "code",
      "source": [
        "#defining a training loop\n",
        "def training_loop(n_epochs, optimizer, params, train_t_u,train_t_c, val_t_u, val_t_c):\n",
        "  for epoch in range (1, n_epochs +1):\n",
        "\n",
        "    if params.grad is not None:\n",
        "       params.grad.zero_()\n",
        "\n",
        "    t_p_train = model_h( train_t_u, *params)\n",
        "    loss_train = loss_fn(t_p_train.transpose(0,1), train_t_c)\n",
        "\n",
        "    t_p_val = model_h(val_t_u, *params)\n",
        "    loss_val = loss_fn(t_p_val.transpose(0,1), val_t_c)\n",
        "\n",
        "    optimizer.zero_grad()\n",
        "    loss_train.backward()\n",
        "    optimizer.step()\n",
        "\n",
        "\n",
        "    if epoch <= 3 or epoch % 500 == 0:\n",
        "            print(f\"Epoch {epoch}, Training loss: {loss_train.item():.4f},\"\n",
        "                  f\" Validation loss: {loss_val.item():.4f}\\n\")\n",
        "  return params\n",
        "\n"
      ],
      "metadata": {
        "id": "vpybjQW6R5Nm"
      },
      "execution_count": 118,
      "outputs": []
    },
    {
      "cell_type": "code",
      "source": [
        "SGD_1_learning_rate = 1e-15\n",
        "params = torch.tensor([1.0, 1.0, 1.0, 1.0, 1.0, 1.0, 1.0, 1.0, 1.0, 1.0, 1.0, 1.0, 0.0], requires_grad = True)\n",
        "optimizer_SGD1 = optim.SGD([params], lr= SGD_1_learning_rate)\n",
        "\n",
        "training_loop(\n",
        "    n_epochs = 5000,\n",
        "    optimizer = optimizer_SGD1,\n",
        "    params = params,\n",
        "    train_t_u = X_train_t,\n",
        "    train_t_c = Y_train_t,\n",
        "    val_t_u = X_val_t,\n",
        "    val_t_c = Y_val_t,\n",
        ")"
      ],
      "metadata": {
        "colab": {
          "base_uri": "https://localhost:8080/"
        },
        "id": "fOhuUoydSjeK",
        "outputId": "c2727ebb-d70a-4684-a966-7c21a3b0ca50"
      },
      "execution_count": 119,
      "outputs": [
        {
          "output_type": "stream",
          "name": "stdout",
          "text": [
            "Epoch 1, Training loss: 296683442882877.3750, Validation loss: 54364782483269.1953\n",
            "\n",
            "Epoch 2, Training loss: 131467027132112.6875, Validation loss: 35936793892416.8516\n",
            "\n",
            "Epoch 3, Training loss: 67211620587508.2656, Validation loss: 28966503476866.1055\n",
            "\n",
            "Epoch 500, Training loss: 26316996983323.4141, Validation loss: 25063440564244.7383\n",
            "\n",
            "Epoch 1000, Training loss: 26316956615056.3164, Validation loss: 25063284860056.3477\n",
            "\n",
            "Epoch 1500, Training loss: 26316916514058.9570, Validation loss: 25063130131141.7656\n",
            "\n",
            "Epoch 2000, Training loss: 26316876500879.4570, Validation loss: 25062975467602.3086\n",
            "\n",
            "Epoch 2500, Training loss: 26316836567309.3242, Validation loss: 25062820861225.9062\n",
            "\n",
            "Epoch 3000, Training loss: 26316796809349.3477, Validation loss: 25062666846880.2461\n",
            "\n",
            "Epoch 3500, Training loss: 26316757288790.0195, Validation loss: 25062513451609.3086\n",
            "\n",
            "Epoch 4000, Training loss: 26316717961016.8789, Validation loss: 25062360467784.6680\n",
            "\n",
            "Epoch 4500, Training loss: 26316678711317.9961, Validation loss: 25062207512812.5664\n",
            "\n",
            "Epoch 5000, Training loss: 26316639722443.2578, Validation loss: 25062055585974.6836\n",
            "\n"
          ]
        },
        {
          "output_type": "execute_result",
          "data": {
            "text/plain": [
              "tensor([-1.8183e-01,  7.9599e-01,  9.8157e-01,  9.9976e-01,  1.0029e+00,\n",
              "         1.0008e+00,  1.0005e+00,  1.0000e+00,  1.0000e+00,  1.0000e+00,\n",
              "         1.0000e+00,  1.0000e+00,  4.7538e-05], requires_grad=True)"
            ]
          },
          "metadata": {},
          "execution_count": 119
        }
      ]
    },
    {
      "cell_type": "code",
      "source": [
        "SGD_2_learning_rate = 1e-20\n",
        "params = torch.tensor([1.0, 1.0, 1.0, 1.0, 1.0, 1.0, 1.0, 1.0, 1.0, 1.0, 1.0, 1.0, 0.0], requires_grad = True)\n",
        "optimizer_SGD2 = optim.SGD([params], lr= SGD_2_learning_rate)\n",
        "\n",
        "training_loop(\n",
        "    n_epochs = 5000,\n",
        "    optimizer = optimizer_SGD2,\n",
        "    params = params,\n",
        "    train_t_u = X_train_t,\n",
        "    train_t_c = Y_train_t,\n",
        "    val_t_u = X_val_t,\n",
        "    val_t_c = Y_val_t,\n",
        ")"
      ],
      "metadata": {
        "colab": {
          "base_uri": "https://localhost:8080/"
        },
        "id": "Dw6czafeTT-K",
        "outputId": "130fa0b8-95fb-4cf7-f7cd-38d7250346b9"
      },
      "execution_count": 120,
      "outputs": [
        {
          "output_type": "stream",
          "name": "stdout",
          "text": [
            "Epoch 1, Training loss: 296683442882877.3750, Validation loss: 54364782483269.1953\n",
            "\n",
            "Epoch 2, Training loss: 296681410874585.5000, Validation loss: 54364553893646.4844\n",
            "\n",
            "Epoch 3, Training loss: 296679378873929.6250, Validation loss: 54364325304914.2891\n",
            "\n",
            "Epoch 500, Training loss: 295670419534583.8750, Validation loss: 54250826903156.2656\n",
            "\n",
            "Epoch 1000, Training loss: 294657273187884.8750, Validation loss: 54136865349665.7969\n",
            "\n",
            "Epoch 1500, Training loss: 293646035858708.1250, Validation loss: 54023126413310.9688\n",
            "\n",
            "Epoch 2000, Training loss: 292636707547053.5000, Validation loss: 53909610094091.7422\n",
            "\n",
            "Epoch 2500, Training loss: 291633698431503.0625, Validation loss: 53796811781043.7578\n",
            "\n",
            "Epoch 3000, Training loss: 290641203121775.3125, Validation loss: 53685202512345.1094\n",
            "\n",
            "Epoch 3500, Training loss: 289650567653569.6250, Validation loss: 53573810133151.1562\n",
            "\n",
            "Epoch 4000, Training loss: 288661792026886.0625, Validation loss: 53462634643461.9141\n",
            "\n",
            "Epoch 4500, Training loss: 287674876241724.5625, Validation loss: 53351676043277.3828\n",
            "\n",
            "Epoch 5000, Training loss: 286689820298085.1875, Validation loss: 53240934332597.5547\n",
            "\n"
          ]
        },
        {
          "output_type": "execute_result",
          "data": {
            "text/plain": [
              "tensor([9.7811e-01, 9.9553e-01, 9.9911e-01, 9.9970e-01, 1.0000e+00, 1.0000e+00,\n",
              "        1.0000e+00, 1.0000e+00, 1.0000e+00, 1.0000e+00, 1.0000e+00, 1.0000e+00,\n",
              "        3.7995e-10], requires_grad=True)"
            ]
          },
          "metadata": {},
          "execution_count": 120
        }
      ]
    },
    {
      "cell_type": "code",
      "source": [
        "SGD_3_learning_rate = 1e-25\n",
        "params = torch.tensor([1.0, 1.0, 1.0, 1.0, 1.0, 1.0, 1.0, 1.0, 1.0, 1.0, 1.0, 1.0, 0.0], requires_grad = True)\n",
        "optimizer_SGD3 = optim.SGD([params], lr= SGD_3_learning_rate)\n",
        "\n",
        "training_loop(\n",
        "    n_epochs = 5000,\n",
        "    optimizer = optimizer_SGD3,\n",
        "    params = params,\n",
        "    train_t_u = X_train_t,\n",
        "    train_t_c = Y_train_t,\n",
        "    val_t_u = X_val_t,\n",
        "    val_t_c = Y_val_t,\n",
        ")"
      ],
      "metadata": {
        "colab": {
          "base_uri": "https://localhost:8080/"
        },
        "id": "g7-RLb1hTfJa",
        "outputId": "cd4d4757-f3a3-441c-b0a1-aa8cea55de83"
      },
      "execution_count": 121,
      "outputs": [
        {
          "output_type": "stream",
          "name": "stdout",
          "text": [
            "Epoch 1, Training loss: 296683442882877.3750, Validation loss: 54364782483269.1953\n",
            "\n",
            "Epoch 2, Training loss: 296683442882877.3750, Validation loss: 54364782483269.1953\n",
            "\n",
            "Epoch 3, Training loss: 296683442882877.3750, Validation loss: 54364782483269.1953\n",
            "\n",
            "Epoch 500, Training loss: 296683442882877.3750, Validation loss: 54364782483269.1953\n",
            "\n",
            "Epoch 1000, Training loss: 296683442882877.3750, Validation loss: 54364782483269.1953\n",
            "\n",
            "Epoch 1500, Training loss: 296683442882877.3750, Validation loss: 54364782483269.1953\n",
            "\n",
            "Epoch 2000, Training loss: 296683442882877.3750, Validation loss: 54364782483269.1953\n",
            "\n",
            "Epoch 2500, Training loss: 296683442882877.3750, Validation loss: 54364782483269.1953\n",
            "\n",
            "Epoch 3000, Training loss: 296683442882877.3750, Validation loss: 54364782483269.1953\n",
            "\n",
            "Epoch 3500, Training loss: 296683442882877.3750, Validation loss: 54364782483269.1953\n",
            "\n",
            "Epoch 4000, Training loss: 296683442882877.3750, Validation loss: 54364782483269.1953\n",
            "\n",
            "Epoch 4500, Training loss: 296683442882877.3750, Validation loss: 54364782483269.1953\n",
            "\n",
            "Epoch 5000, Training loss: 296683442882877.3750, Validation loss: 54364782483269.1953\n",
            "\n"
          ]
        },
        {
          "output_type": "execute_result",
          "data": {
            "text/plain": [
              "tensor([1.0000e+00, 1.0000e+00, 1.0000e+00, 1.0000e+00, 1.0000e+00, 1.0000e+00,\n",
              "        1.0000e+00, 1.0000e+00, 1.0000e+00, 1.0000e+00, 1.0000e+00, 1.0000e+00,\n",
              "        3.7905e-15], requires_grad=True)"
            ]
          },
          "metadata": {},
          "execution_count": 121
        }
      ]
    },
    {
      "cell_type": "code",
      "source": [
        "SGD_4_learning_rate = 1e-30\n",
        "params = torch.tensor([1.0, 1.0, 1.0, 1.0, 1.0, 1.0, 1.0, 1.0, 1.0, 1.0, 1.0, 1.0, 0.0], requires_grad = True)\n",
        "optimizer_SGD4 = optim.SGD([params], lr= SGD_4_learning_rate)\n",
        "\n",
        "training_loop(\n",
        "    n_epochs = 5000,\n",
        "    optimizer = optimizer_SGD4,\n",
        "    params = params,\n",
        "    train_t_u = X_train_t,\n",
        "    train_t_c = Y_train_t,\n",
        "    val_t_u = X_val_t,\n",
        "    val_t_c = Y_val_t,\n",
        ")"
      ],
      "metadata": {
        "colab": {
          "base_uri": "https://localhost:8080/"
        },
        "id": "2ba20a_sTkm9",
        "outputId": "cbce0154-673e-47f1-c891-c993e2aabf5f"
      },
      "execution_count": 122,
      "outputs": [
        {
          "output_type": "stream",
          "name": "stdout",
          "text": [
            "Epoch 1, Training loss: 296683442882877.3750, Validation loss: 54364782483269.1953\n",
            "\n",
            "Epoch 2, Training loss: 296683442882877.3750, Validation loss: 54364782483269.1953\n",
            "\n",
            "Epoch 3, Training loss: 296683442882877.3750, Validation loss: 54364782483269.1953\n",
            "\n",
            "Epoch 500, Training loss: 296683442882877.3750, Validation loss: 54364782483269.1953\n",
            "\n",
            "Epoch 1000, Training loss: 296683442882877.3750, Validation loss: 54364782483269.1953\n",
            "\n",
            "Epoch 1500, Training loss: 296683442882877.3750, Validation loss: 54364782483269.1953\n",
            "\n",
            "Epoch 2000, Training loss: 296683442882877.3750, Validation loss: 54364782483269.1953\n",
            "\n",
            "Epoch 2500, Training loss: 296683442882877.3750, Validation loss: 54364782483269.1953\n",
            "\n",
            "Epoch 3000, Training loss: 296683442882877.3750, Validation loss: 54364782483269.1953\n",
            "\n",
            "Epoch 3500, Training loss: 296683442882877.3750, Validation loss: 54364782483269.1953\n",
            "\n",
            "Epoch 4000, Training loss: 296683442882877.3750, Validation loss: 54364782483269.1953\n",
            "\n",
            "Epoch 4500, Training loss: 296683442882877.3750, Validation loss: 54364782483269.1953\n",
            "\n",
            "Epoch 5000, Training loss: 296683442882877.3750, Validation loss: 54364782483269.1953\n",
            "\n"
          ]
        },
        {
          "output_type": "execute_result",
          "data": {
            "text/plain": [
              "tensor([1.0000e+00, 1.0000e+00, 1.0000e+00, 1.0000e+00, 1.0000e+00, 1.0000e+00,\n",
              "        1.0000e+00, 1.0000e+00, 1.0000e+00, 1.0000e+00, 1.0000e+00, 1.0000e+00,\n",
              "        3.7903e-20], requires_grad=True)"
            ]
          },
          "metadata": {},
          "execution_count": 122
        }
      ]
    },
    {
      "cell_type": "code",
      "source": [
        "#Adam 1\n",
        "Adam_1_learning_rate = 0.1\n",
        "params = torch.tensor([1.0, 1.0, 1.0, 1.0, 1.0, 1.0, 1.0, 1.0, 1.0, 1.0, 1.0, 1.0, 0.0], requires_grad = True)\n",
        "Adam_1_optimizer = optim.Adam([params], lr= Adam_1_learning_rate)\n",
        "\n",
        "training_loop(\n",
        "    n_epochs = 5000,\n",
        "    optimizer = Adam_1_optimizer,\n",
        "    params = params,\n",
        "    train_t_u = X_train_t,\n",
        "    train_t_c = Y_train_t,\n",
        "    val_t_u = X_val_t,\n",
        "    val_t_c = Y_val_t,\n",
        ")"
      ],
      "metadata": {
        "colab": {
          "base_uri": "https://localhost:8080/"
        },
        "id": "3LJHW2P1UU0V",
        "outputId": "a8ef7517-5adb-4547-8f59-733fee8b69da"
      },
      "execution_count": 123,
      "outputs": [
        {
          "output_type": "stream",
          "name": "stdout",
          "text": [
            "Epoch 1, Training loss: 296683442882877.3750, Validation loss: 54364782483269.1953\n",
            "\n",
            "Epoch 2, Training loss: 244227149707464.5938, Validation loss: 48444982803921.2422\n",
            "\n",
            "Epoch 3, Training loss: 197610155763582.6562, Validation loss: 43213275408720.7422\n",
            "\n",
            "Epoch 500, Training loss: 26329257847778.0625, Validation loss: 25104353016655.0273\n",
            "\n",
            "Epoch 1000, Training loss: 26320920173619.9219, Validation loss: 25087244782815.9961\n",
            "\n",
            "Epoch 1500, Training loss: 26310415886434.2461, Validation loss: 25064677439609.2070\n",
            "\n",
            "Epoch 2000, Training loss: 26298627027275.3945, Validation loss: 25038110880296.0664\n",
            "\n",
            "Epoch 2500, Training loss: 26286369032988.8906, Validation loss: 25009113949460.4531\n",
            "\n",
            "Epoch 3000, Training loss: 26274287907440.1406, Validation loss: 24979403926428.5859\n",
            "\n",
            "Epoch 3500, Training loss: 26262670104236.4531, Validation loss: 24950644096395.8320\n",
            "\n",
            "Epoch 4000, Training loss: 26251312309941.2891, Validation loss: 24924117732922.8203\n",
            "\n",
            "Epoch 4500, Training loss: 26239576923999.7734, Validation loss: 24900407159809.7227\n",
            "\n",
            "Epoch 5000, Training loss: 26226642165093.6172, Validation loss: 24879220452251.7188\n",
            "\n"
          ]
        },
        {
          "output_type": "execute_result",
          "data": {
            "text/plain": [
              "tensor([-2.1248e-01, -3.9326e-01,  4.6480e+00,  7.4529e+00,  2.9039e+01,\n",
              "         4.0698e+01,  1.2172e+02,  1.6630e+02,  3.3453e+02,  3.8658e+02,\n",
              "         4.8454e+02,  4.8196e+02,  5.0007e+02], requires_grad=True)"
            ]
          },
          "metadata": {},
          "execution_count": 123
        }
      ]
    },
    {
      "cell_type": "code",
      "source": [
        "#Adam 2\n",
        "Adam_2_learning_rate = 0.01\n",
        "params = torch.tensor([1.0, 1.0, 1.0, 1.0, 1.0, 1.0, 1.0, 1.0, 1.0, 1.0, 1.0, 1.0, 0.0], requires_grad = True)\n",
        "Adam_2_optimizer = optim.Adam([params], lr= Adam_2_learning_rate)\n",
        "\n",
        "training_loop(\n",
        "    n_epochs = 5000,\n",
        "    optimizer = Adam_2_optimizer,\n",
        "    params = params,\n",
        "    train_t_u = X_train_t,\n",
        "    train_t_c = Y_train_t,\n",
        "    val_t_u = X_val_t,\n",
        "    val_t_c = Y_val_t,\n",
        ")"
      ],
      "metadata": {
        "colab": {
          "base_uri": "https://localhost:8080/"
        },
        "id": "Wcry87V2UaKQ",
        "outputId": "dfaa88f2-5031-4f59-bea2-bde632170dbb"
      },
      "execution_count": 124,
      "outputs": [
        {
          "output_type": "stream",
          "name": "stdout",
          "text": [
            "Epoch 1, Training loss: 296683442882877.3750, Validation loss: 54364782483269.1953\n",
            "\n",
            "Epoch 2, Training loss: 291183470521275.1875, Validation loss: 53742780790892.7109\n",
            "\n",
            "Epoch 3, Training loss: 285741537154584.3125, Validation loss: 53127622183921.3906\n",
            "\n",
            "Epoch 500, Training loss: 26333820848125.9219, Validation loss: 25113197710615.2148\n",
            "\n",
            "Epoch 1000, Training loss: 26333434841000.7852, Validation loss: 25112483981028.8828\n",
            "\n",
            "Epoch 1500, Training loss: 26332905483745.6758, Validation loss: 25111466231823.6680\n",
            "\n",
            "Epoch 2000, Training loss: 26332216627445.3789, Validation loss: 25110105689196.1367\n",
            "\n",
            "Epoch 2500, Training loss: 26331340378508.3203, Validation loss: 25108337844203.5273\n",
            "\n",
            "Epoch 3000, Training loss: 26330239881199.4141, Validation loss: 25106076398995.3828\n",
            "\n",
            "Epoch 3500, Training loss: 26328870133333.1445, Validation loss: 25103213208418.4219\n",
            "\n",
            "Epoch 4000, Training loss: 26327178631870.0117, Validation loss: 25099617239345.8867\n",
            "\n",
            "Epoch 4500, Training loss: 26325106538757.4141, Validation loss: 25095134425075.3750\n",
            "\n",
            "Epoch 5000, Training loss: 26322591210371.5078, Validation loss: 25089589446805.5273\n",
            "\n"
          ]
        },
        {
          "output_type": "execute_result",
          "data": {
            "text/plain": [
              "tensor([-2.2231e-02,  1.1091e-01,  4.3998e-01,  7.0769e-01,  1.6644e+00,\n",
              "         2.3079e+00,  5.7309e+00,  8.1246e+00,  2.1031e+01,  2.7578e+01,\n",
              "         4.6649e+01,  4.6112e+01,  5.0324e+01], requires_grad=True)"
            ]
          },
          "metadata": {},
          "execution_count": 124
        }
      ]
    },
    {
      "cell_type": "code",
      "source": [
        "#Adam 3\n",
        "Adam_3_learning_rate = 0.001\n",
        "params = torch.tensor([1.0, 1.0, 1.0, 1.0, 1.0, 1.0, 1.0, 1.0, 1.0, 1.0, 1.0, 1.0, 0.0], requires_grad = True)\n",
        "Adam_3_optimizer = optim.Adam([params], lr= Adam_3_learning_rate)\n",
        "\n",
        "training_loop(\n",
        "    n_epochs = 5000,\n",
        "    optimizer = Adam_3_optimizer,\n",
        "    params = params,\n",
        "    train_t_u = X_train_t,\n",
        "    train_t_c = Y_train_t,\n",
        "    val_t_u = X_val_t,\n",
        "    val_t_c = Y_val_t,\n",
        ")"
      ],
      "metadata": {
        "colab": {
          "base_uri": "https://localhost:8080/"
        },
        "id": "Qx40tLscVKcw",
        "outputId": "9c110838-1790-4cb4-b753-1f99d90fb10c"
      },
      "execution_count": 125,
      "outputs": [
        {
          "output_type": "stream",
          "name": "stdout",
          "text": [
            "Epoch 1, Training loss: 296683442882877.3750, Validation loss: 54364782483269.1953\n",
            "\n",
            "Epoch 2, Training loss: 296130908741499.8750, Validation loss: 54302282834905.4609\n",
            "\n",
            "Epoch 3, Training loss: 295578939806347.1250, Validation loss: 54239849901349.1484\n",
            "\n",
            "Epoch 500, Training loss: 108986262078127.4531, Validation loss: 33398848066326.6406\n",
            "\n",
            "Epoch 1000, Training loss: 42963819259218.8281, Validation loss: 26416790971029.3516\n",
            "\n",
            "Epoch 1500, Training loss: 28159627377137.2266, Validation loss: 25110438523992.1211\n",
            "\n",
            "Epoch 2000, Training loss: 26422349845908.1055, Validation loss: 25075814375607.5938\n",
            "\n",
            "Epoch 2500, Training loss: 26335436242132.4609, Validation loss: 25107342692787.2695\n",
            "\n",
            "Epoch 3000, Training loss: 26333913732294.2109, Validation loss: 25112932847857.4336\n",
            "\n",
            "Epoch 3500, Training loss: 26333861574808.0977, Validation loss: 25113247655761.3555\n",
            "\n",
            "Epoch 4000, Training loss: 26333805538794.3945, Validation loss: 25113150922521.2852\n",
            "\n",
            "Epoch 4500, Training loss: 26333736383223.6445, Validation loss: 25113014999775.5312\n",
            "\n",
            "Epoch 5000, Training loss: 26333650615443.8828, Validation loss: 25112843271168.0039\n",
            "\n"
          ]
        },
        {
          "output_type": "execute_result",
          "data": {
            "text/plain": [
              "tensor([0.0208, 0.0243, 0.0328, 0.0398, 0.0641, 0.0807, 0.1694, 0.2351, 0.7028,\n",
              "        1.0857, 3.6526, 3.5206, 5.1243], requires_grad=True)"
            ]
          },
          "metadata": {},
          "execution_count": 125
        }
      ]
    },
    {
      "cell_type": "code",
      "source": [
        "#Adam 4\n",
        "Adam_4_learning_rate = 0.0001\n",
        "params = torch.tensor([1.0, 1.0, 1.0, 1.0, 1.0, 1.0, 1.0, 1.0, 1.0, 1.0, 1.0, 1.0, 0.0], requires_grad = True)\n",
        "Adam_4_optimizer = optim.Adam([params], lr= Adam_4_learning_rate)\n",
        "\n",
        "training_loop(\n",
        "    n_epochs = 5000,\n",
        "    optimizer = Adam_4_optimizer,\n",
        "    params = params,\n",
        "    train_t_u = X_train_t,\n",
        "    train_t_c = Y_train_t,\n",
        "    val_t_u = X_val_t,\n",
        "    val_t_c = Y_val_t,\n",
        ")"
      ],
      "metadata": {
        "colab": {
          "base_uri": "https://localhost:8080/"
        },
        "id": "s8USDK5_VQ7F",
        "outputId": "40443fea-3968-43f9-811d-7d3dbaf82df2"
      },
      "execution_count": 126,
      "outputs": [
        {
          "output_type": "stream",
          "name": "stdout",
          "text": [
            "Epoch 1, Training loss: 296683442882877.3750, Validation loss: 54364782483269.1953\n",
            "\n",
            "Epoch 2, Training loss: 296628154150209.5000, Validation loss: 54358528398194.2578\n",
            "\n",
            "Epoch 3, Training loss: 296572871071625.2500, Validation loss: 54352274980506.0391\n",
            "\n",
            "Epoch 500, Training loss: 270096059157998.8750, Validation loss: 51360679930647.7656\n",
            "\n",
            "Epoch 1000, Training loss: 245385502725323.7500, Validation loss: 48575371933863.6328\n",
            "\n",
            "Epoch 1500, Training loss: 222444863725455.4062, Validation loss: 45996380037033.4375\n",
            "\n",
            "Epoch 2000, Training loss: 201139615667660.4688, Validation loss: 43608178503270.8750\n",
            "\n",
            "Epoch 2500, Training loss: 181360422325986.1562, Validation loss: 41398148588049.9219\n",
            "\n",
            "Epoch 3000, Training loss: 163019511405303.6875, Validation loss: 39356150155466.7344\n",
            "\n",
            "Epoch 3500, Training loss: 146047148614983.2188, Validation loss: 37474105412357.3672\n",
            "\n",
            "Epoch 4000, Training loss: 130387675092790.4688, Validation loss: 35745536471723.3672\n",
            "\n",
            "Epoch 4500, Training loss: 115995969856810.4531, Validation loss: 34165152543316.1836\n",
            "\n",
            "Epoch 5000, Training loss: 102834440559553.1094, Validation loss: 32728498202740.3203\n",
            "\n"
          ]
        },
        {
          "output_type": "execute_result",
          "data": {
            "text/plain": [
              "tensor([0.5421, 0.5421, 0.5422, 0.5422, 0.5422, 0.5423, 0.5424, 0.5426, 0.5436,\n",
              "        0.5445, 0.5579, 0.5564, 0.5075], requires_grad=True)"
            ]
          },
          "metadata": {},
          "execution_count": 126
        }
      ]
    }
  ]
}