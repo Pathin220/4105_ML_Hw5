{
  "nbformat": 4,
  "nbformat_minor": 0,
  "metadata": {
    "colab": {
      "provenance": [],
      "authorship_tag": "ABX9TyP5iHERDppbsCiPHgwDt1mB",
      "include_colab_link": true
    },
    "kernelspec": {
      "name": "python3",
      "display_name": "Python 3"
    },
    "language_info": {
      "name": "python"
    }
  },
  "cells": [
    {
      "cell_type": "markdown",
      "metadata": {
        "id": "view-in-github",
        "colab_type": "text"
      },
      "source": [
        "<a href=\"https://colab.research.google.com/github/Pathin220/4105_ML_Hw5/blob/main/4105_Hw_5_Q1.ipynb\" target=\"_parent\"><img src=\"https://colab.research.google.com/assets/colab-badge.svg\" alt=\"Open In Colab\"/></a>"
      ]
    },
    {
      "cell_type": "code",
      "source": [
        "import torch\n",
        "import tensorflow\n",
        "import matplotlib.pyplot as plt\n",
        "import numpy as np\n",
        "import torch.nn as nn\n",
        "import torch.optim as optim\n",
        "import pandas as pd\n",
        "from sklearn.model_selection import train_test_split\n",
        "from sklearn.preprocessing import StandardScaler"
      ],
      "metadata": {
        "id": "t8ZemFFSoF8-"
      },
      "execution_count": 1,
      "outputs": []
    },
    {
      "cell_type": "code",
      "execution_count": 2,
      "metadata": {
        "id": "ehLRpXAls-6I"
      },
      "outputs": [],
      "source": [
        "#1. In our temperature prediction example, let’s change our model to a nonlinear system. Consider the following description for our model:\n",
        "\n",
        "#w2 * t_u ** 2 + w1 * t_u + b.\n",
        "\n",
        "#1.a Modify the training loop properly to accommodate this redefinition.\n",
        "\n",
        "#1.b Use 5000 epochs for your training. Explore different learning rates from 0.1 to 0.0001 (you need four separate trainings).\n",
        "#Report your loss for every 500 epochs per training.\n",
        "\n",
        "#1.c Pick the best non-linear model and compare your final best loss against the linear model that we did during the lecture.\n",
        "#For this, visualize the non-linear model against the linear model over the input dataset, as we did during the lecture. Is the actual result better or worse than our baseline linear model?"
      ]
    },
    {
      "cell_type": "code",
      "source": [
        "\n",
        "#setting values in array for X which is t_C and Y which is t_U\n",
        "t_c = [0.5, 14.0, 15.0, 28.0, 11.0, 8.0, 3.0, -4.0, 6.0, 13.0, 21.0]\n",
        "t_u = [35.7, 55.9, 58.2, 81.9, 56.3, 48.9, 33.9, 21.8, 48.4, 60.4, 68.4]\n",
        "t_c = torch.tensor(t_c)\n",
        "t_u = torch.tensor(t_u)\n",
        "t_un = 0.01 * t_u\n",
        "params = torch.tensor([1.0, 1.0, 0.0], requires_grad=True)"
      ],
      "metadata": {
        "id": "ClSzRCS38ok_"
      },
      "execution_count": 3,
      "outputs": []
    },
    {
      "cell_type": "code",
      "source": [
        "#defining the nonlinear model\n",
        "def nonlin_model(t_u, w1, w2, b):\n",
        "    return w2 * t_u**2 + w1 * t_u + b"
      ],
      "metadata": {
        "id": "_KkUUSn68qbI"
      },
      "execution_count": 4,
      "outputs": []
    },
    {
      "cell_type": "code",
      "source": [
        "#defining the linear model\n",
        "def lin_model(t_u, w, b):\n",
        "    return w * t_u + b\n",
        ""
      ],
      "metadata": {
        "id": "8qpr48Pc8sUp"
      },
      "execution_count": 5,
      "outputs": []
    },
    {
      "cell_type": "code",
      "source": [
        "def loss_fn(t_p, t_c):\n",
        "    squared_diffs = (t_p - t_c)**2\n",
        "    return squared_diffs.mean()"
      ],
      "metadata": {
        "id": "kggz93Mo8tqf"
      },
      "execution_count": 6,
      "outputs": []
    },
    {
      "cell_type": "code",
      "source": [
        "def loss_func(tp, tc):\n",
        "  dsqdiffs = 2 * (tp - tc) / tp.size(0)\n",
        "  return dsqdiffs"
      ],
      "metadata": {
        "id": "P0NDWJG98u_1"
      },
      "execution_count": 7,
      "outputs": []
    },
    {
      "cell_type": "code",
      "source": [
        "def model_w1(tu, w1, w2, b):\n",
        "  return tu"
      ],
      "metadata": {
        "id": "MlSS2WRy8xMp"
      },
      "execution_count": 8,
      "outputs": []
    },
    {
      "cell_type": "code",
      "source": [
        "def model_w2(tu, w1, w2, b):\n",
        "  return tu**2\n",
        ""
      ],
      "metadata": {
        "id": "j-XBTVgM8yjX"
      },
      "execution_count": 9,
      "outputs": []
    },
    {
      "cell_type": "code",
      "source": [
        "def model_b(tu, w1, w2, b):\n",
        "  return 1.0"
      ],
      "metadata": {
        "id": "KHuQ8eiM80G6"
      },
      "execution_count": 10,
      "outputs": []
    },
    {
      "cell_type": "code",
      "source": [
        "def gradfunc(tu, tc, tp, w1, w2, b):\n",
        "  loss_t_p = loss_func(tp, tc)\n",
        "  dlossd_w1 = loss_t_p * model_w1(tu, w1, w2, b)\n",
        "  dlossd_w2 = loss_t_p * model_w2(tu, w1, w2, b)\n",
        "  dlossd_b = loss_t_p * model_b(tu, w1 , w2, b)\n",
        "  return torch.stack([dlossd_w1.sum(), dlossd_w2.sum(), dlossd_b.sum()])\n",
        ""
      ],
      "metadata": {
        "id": "PzEc6DhJ81cA"
      },
      "execution_count": 11,
      "outputs": []
    },
    {
      "cell_type": "code",
      "source": [
        "w2 = torch.ones(())\n",
        "w1 = torch.ones(())\n",
        "b = torch.zeros(())\n",
        "\n",
        "t_p = nonlin_model(t_u, w2, w1, b)\n",
        "t_p"
      ],
      "metadata": {
        "colab": {
          "base_uri": "https://localhost:8080/"
        },
        "id": "uM-3StTK82zq",
        "outputId": "73932b3e-3774-42c2-e90a-44a583e95fcf"
      },
      "execution_count": 12,
      "outputs": [
        {
          "output_type": "execute_result",
          "data": {
            "text/plain": [
              "tensor([1310.1901, 3180.7100, 3445.4399, 6789.5103, 3225.9900, 2440.1101,\n",
              "        1183.1101,  497.0399, 2390.9600, 3708.5601, 4746.9600])"
            ]
          },
          "metadata": {},
          "execution_count": 12
        }
      ]
    },
    {
      "cell_type": "code",
      "source": [
        "\n",
        "#computing the loss\n",
        "loss = loss_fn(t_p, t_c)\n",
        "loss\n",
        "\n",
        "#testing function\n",
        "loss_test = loss_fn(nonlin_model(t_un, *params), t_c)\n",
        "loss_test.backward()\n",
        "\n",
        "params.grad"
      ],
      "metadata": {
        "colab": {
          "base_uri": "https://localhost:8080/"
        },
        "id": "j6DrEym-84KZ",
        "outputId": "5281db58-ba24-45e3-ba51-d894f7b658c3"
      },
      "execution_count": 13,
      "outputs": [
        {
          "output_type": "execute_result",
          "data": {
            "text/plain": [
              "tensor([-12.6975,  -8.4735, -19.3758])"
            ]
          },
          "metadata": {},
          "execution_count": 13
        }
      ]
    },
    {
      "cell_type": "code",
      "source": [
        "# Non-linear training loop\n",
        "def nonlin_training_loop (n_epochs, params, t_u, t_c, learning_rate):\n",
        "    print(f'Learning Rate: {learning_rate}')\n",
        "    for epoch in range(1, n_epochs+1):\n",
        "        w1, w2, b = params\n",
        "        t_p = nonlin_model (t_u, w1, w2, b)\n",
        "        loss = loss_fn(t_p, t_c)\n",
        "\n",
        "        optimizer.zero_grad()\n",
        "        loss.backward()\n",
        "        optimizer.step()\n",
        "\n",
        "        if epoch % 500 == 0:\n",
        "            print ('Epoch %d, Loss %f' % (epoch, float(loss)))\n",
        "    return params, loss"
      ],
      "metadata": {
        "id": "YI8icTec9XrX"
      },
      "execution_count": 14,
      "outputs": []
    },
    {
      "cell_type": "code",
      "source": [
        "# Linear training loop\n",
        "def lin_training_loop (n_epochs, optimizer, params, t_u, t_c):\n",
        "    for epoch in range(1, n_epochs+1):\n",
        "        t_p = lin_model (t_u, *params)\n",
        "        loss = loss_fn(t_p, t_c)\n",
        "\n",
        "        optimizer.zero_grad()\n",
        "        loss.backward()\n",
        "        optimizer.step()\n",
        "\n",
        "        if epoch % 500 == 0:\n",
        "            print ('Epoch %d, Loss %f' % (epoch, float(loss)))\n",
        "    return params, loss"
      ],
      "metadata": {
        "id": "wr1bXRV-_UJO"
      },
      "execution_count": 15,
      "outputs": []
    },
    {
      "cell_type": "code",
      "source": [
        "learning_rate = [0.1, 0.01, 0.001, 0.0001]\n",
        "train_params = torch.zeros(len(learning_rate), 3)\n",
        "train_loss = torch.zeros(len(learning_rate), 1)\n",
        "linear_train_params = torch.zeros(1, 2)\n",
        "linear_train_loss = torch.zeros(1, 1)\n"
      ],
      "metadata": {
        "id": "cOm1vVRy9BDB"
      },
      "execution_count": 16,
      "outputs": []
    },
    {
      "cell_type": "code",
      "source": [
        "\n",
        "for i in learning_rate:\n",
        "    params = torch.tensor([1.0, 1.0, 0.0], requires_grad=True)\n",
        "    optimizer = optim.SGD([params], lr=i)\n",
        "    print(f'\\nTraining with learning rate: {i}')\n",
        "    train_params[learning_rate.index(i)], train_loss[learning_rate.index(i)] = nonlin_training_loop(\n",
        "        n_epochs = 5000,\n",
        "        params = params,\n",
        "        t_u = t_un,\n",
        "        t_c = t_c,\n",
        "        learning_rate = i\n",
        "        )"
      ],
      "metadata": {
        "colab": {
          "base_uri": "https://localhost:8080/"
        },
        "id": "ZYVK0s5T9bB_",
        "outputId": "0287338b-78c1-464b-eb61-13bf618bf87c"
      },
      "execution_count": 17,
      "outputs": [
        {
          "output_type": "stream",
          "name": "stdout",
          "text": [
            "\n",
            "Training with learning rate: 0.1\n",
            "Learning Rate: 0.1\n",
            "Epoch 500, Loss 2.108456\n",
            "Epoch 1000, Loss 2.090728\n",
            "Epoch 1500, Loss 2.090720\n",
            "Epoch 2000, Loss 2.090720\n",
            "Epoch 2500, Loss 2.090721\n",
            "Epoch 3000, Loss 2.090719\n",
            "Epoch 3500, Loss 2.090720\n",
            "Epoch 4000, Loss 2.090720\n",
            "Epoch 4500, Loss 2.090720\n",
            "Epoch 5000, Loss 2.090720\n",
            "\n",
            "Training with learning rate: 0.01\n",
            "Learning Rate: 0.01\n",
            "Epoch 500, Loss 26.266186\n",
            "Epoch 1000, Loss 12.949670\n",
            "Epoch 1500, Loss 6.968258\n",
            "Epoch 2000, Loss 4.281574\n",
            "Epoch 2500, Loss 3.074787\n",
            "Epoch 3000, Loss 2.532740\n",
            "Epoch 3500, Loss 2.289264\n",
            "Epoch 4000, Loss 2.179901\n",
            "Epoch 4500, Loss 2.130778\n",
            "Epoch 5000, Loss 2.108713\n",
            "\n",
            "Training with learning rate: 0.001\n",
            "Learning Rate: 0.001\n",
            "Epoch 500, Loss 58.822189\n",
            "Epoch 1000, Loss 48.348232\n",
            "Epoch 1500, Loss 44.396774\n",
            "Epoch 2000, Loss 41.118404\n",
            "Epoch 2500, Loss 38.115955\n",
            "Epoch 3000, Loss 35.345898\n",
            "Epoch 3500, Loss 32.788918\n",
            "Epoch 4000, Loss 30.428556\n",
            "Epoch 4500, Loss 28.249678\n",
            "Epoch 5000, Loss 26.238340\n",
            "\n",
            "Training with learning rate: 0.0001\n",
            "Learning Rate: 0.0001\n",
            "Epoch 500, Loss 138.825058\n",
            "Epoch 1000, Loss 118.428955\n",
            "Epoch 1500, Loss 102.817139\n",
            "Epoch 2000, Loss 90.845161\n",
            "Epoch 2500, Loss 81.642403\n",
            "Epoch 3000, Loss 74.546761\n",
            "Epoch 3500, Loss 69.054512\n",
            "Epoch 4000, Loss 64.782639\n",
            "Epoch 4500, Loss 61.439720\n",
            "Epoch 5000, Loss 58.804115\n"
          ]
        }
      ]
    },
    {
      "cell_type": "code",
      "source": [
        "best_nonlinear_params = [torch.tensor([0.1], requires_grad=True), torch.tensor([0.01], requires_grad=True), torch.tensor([0.0], requires_grad=True)]\n"
      ],
      "metadata": {
        "id": "JWHXADco9iV2"
      },
      "execution_count": 18,
      "outputs": []
    },
    {
      "cell_type": "code",
      "source": [
        "lin_params = torch.tensor([1.0, 0.0], requires_grad=True)\n",
        "learning_rate = 0.1\n",
        "optimizer = optim.SGD([lin_params], lr=learning_rate)\n",
        "print(f'Linear model with LR={learning_rate}')\n",
        "lin_train_params, lin_train_loss = lin_training_loop(\n",
        "    n_epochs = 5000,\n",
        "    optimizer = optimizer,\n",
        "    params = lin_params,\n",
        "    t_u = t_un,\n",
        "    t_c = t_c)"
      ],
      "metadata": {
        "colab": {
          "base_uri": "https://localhost:8080/"
        },
        "id": "jVnCYeLf-NiA",
        "outputId": "10bc7431-dd8d-4d1f-d59c-f3414deadfe8"
      },
      "execution_count": 19,
      "outputs": [
        {
          "output_type": "stream",
          "name": "stdout",
          "text": [
            "Linear model with LR=0.1\n",
            "Epoch 500, Loss 3.986502\n",
            "Epoch 1000, Loss 2.946055\n",
            "Epoch 1500, Loss 2.927963\n",
            "Epoch 2000, Loss 2.927650\n",
            "Epoch 2500, Loss 2.927644\n",
            "Epoch 3000, Loss 2.927644\n",
            "Epoch 3500, Loss 2.927644\n",
            "Epoch 4000, Loss 2.927644\n",
            "Epoch 4500, Loss 2.927644\n",
            "Epoch 5000, Loss 2.927644\n"
          ]
        }
      ]
    },
    {
      "cell_type": "code",
      "source": [
        "best_params = train_params[3]\n",
        "nonlin_t_p = nonlin_model(t_un, *best_params)\n",
        "lin_t_p = lin_model(t_un, *lin_train_params)\n",
        ""
      ],
      "metadata": {
        "id": "iYQq95uY_k4Q"
      },
      "execution_count": 20,
      "outputs": []
    },
    {
      "cell_type": "code",
      "source": [
        "plt.scatter(t_u.numpy(), t_c.numpy(), label='Actual data')\n",
        "plt.plot(t_u.numpy(), t_p.numpy(), label='Linear model', linestyle='-.', c = 'r')\n",
        "plt.plot(t_u.numpy(), t_p.numpy(), label='Nonlinear model', linestyle='-.', c = 'g')\n",
        "plt.legend()\n",
        "plt.xlabel('Input feature (t_u)')\n",
        "plt.ylabel('Target (t_c)')\n",
        "plt.title('Model Comparison')\n",
        "plt.show()"
      ],
      "metadata": {
        "colab": {
          "base_uri": "https://localhost:8080/",
          "height": 472
        },
        "id": "6JYzCMwy_lOk",
        "outputId": "61c6b468-8141-4877-9318-a0e1b459074d"
      },
      "execution_count": 21,
      "outputs": [
        {
          "output_type": "display_data",
          "data": {
            "text/plain": [
              "<Figure size 640x480 with 1 Axes>"
            ],
            "image/png": "[encoded data removed]"
          },
          "metadata": {}
        }
      ]
    }
  ]
}